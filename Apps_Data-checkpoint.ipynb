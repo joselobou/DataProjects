{
 "cells": [
  {
   "cell_type": "markdown",
   "metadata": {},
   "source": [
    "# DataQuest - Python for Data Science: Fundamentals\n",
    "Each DataQuest course is followed by a Guided Project to practice what was tought with real porjects. The subjects that were tought in this first course were:\n",
    "- The basics of programming in Python (arithmetical operations, variables, common data types, etc.)\n",
    "- List and for loops\n",
    "- Conditional statements\n",
    "- Dictionaries and frequency tables\n",
    "- Functions"
   ]
  },
  {
   "cell_type": "markdown",
   "metadata": {},
   "source": [
    "## Introduction\n",
    "This Guided project consists in making a data driven decision for an App Development company. \n",
    "The company creates **free apps for Google Play Store and IOS mobie Apps**, their profit comes from in-app Ads, which means that the more active users there are, the greater the revenue. The prospective app should work for both stores (IOS and GPS)\n",
    "#### Datasets\n",
    "- [Google Play Store Apps](https://www.kaggle.com/lava18/google-play-store-apps/home): Public dataset extracted by Lavanya Gupta published in Kagle (last update on January 2019), containing a **sample of 10k apps**:\n",
    "        - Name\n",
    "        - Category\n",
    "        - Rating\n",
    "        - Number of reviews\n",
    "        - Size (mb)\n",
    "        - Installs\n",
    "        - Price\n",
    "        - Content Rating (18+, Teen, Everyone)\n",
    "        - Genre\n",
    "- [Mobile App Store](https://www.kaggle.com/ramamet4/app-store-apple-data-set-10k-apps/home): Public dataset extracted by Research Engineer Ramathan published in Kagle, extracted on July 2017 containing a **sample of 7k+ apps**:\n",
    "\n",
    "| Code             | Content                                         |\n",
    "|------------------|-------------------------------------------------|\n",
    "| id               | App ID                                          |\n",
    "| track_name       | App Name                                        |\n",
    "| size_bytes       | Size (in Bytes)                                 |\n",
    "| currency         | Currency Type                                   |\n",
    "| price            | Price amount                                    |\n",
    "| rating_count_tot | User Rating counts (for all version)            |\n",
    "| rating_count_ver | User Rating counts (for current version)        |\n",
    "| user_rating      | Average User Rating value (for all version)     |\n",
    "| user_rating_ver  | Average User Rating value (for current version) |\n",
    "| ver              | Latest version code                             |\n",
    "| cont_rating      | Content Rating                                  |\n",
    "| prime_genre      | Primary Genre                                   |\n",
    "| sup_devices.num  | Number of supporting devices                    |\n",
    "| ipadSc_urls.num  | Number of screenshots showed for display        |\n",
    "| lang.num         | Number of supported languages                   |\n",
    "| vpp_lic          | Vpp Device Based Licensing Enabled              |\n",
    "\n",
    "        "
   ]
  },
  {
   "cell_type": "markdown",
   "metadata": {},
   "source": [
    "## Data Opening\n",
    "First, we start by making the following steps for each file:\n",
    "- opening the csv file and iterate over it with the reader() command\n",
    "- Create a list for the read file with list()"
   ]
  },
  {
   "cell_type": "code",
   "execution_count": 1,
   "metadata": {},
   "outputs": [],
   "source": [
    "opened_file_as = open(r\"C:\\Users\\Jose\\Documents\\Dataquest\\Apps_Data\\AppleStore.csv\", encoding = 'utf-8-sig')\n",
    "from csv import reader\n",
    "read_file_as = reader(opened_file_as)\n",
    "apps_data_as = list(read_file_as)\n",
    "\n",
    "opened_file_gps = open(r\"C:\\Users\\Jose\\Documents\\Dataquest\\Apps_Data\\googleplaystore.csv\", encoding = 'utf-8-sig')\n",
    "read_file_gps = reader(opened_file_gps)\n",
    "apps_data_gps = list(read_file_gps)\n",
    "\n",
    "def explore_data(dataset, start, end, rows_and_columns=False): #Prints slice added in parameters, total dataset rows and columns\n",
    "    dataset_slice = dataset[start:end]    \n",
    "    for row in dataset_slice:\n",
    "        print(row)\n",
    "        print('\\n')\n",
    "\n",
    "    if rows_and_columns:\n",
    "        print('Number of rows:', len(dataset))\n",
    "        print('Number of columns:', len(dataset[0]))"
   ]
  },
  {
   "cell_type": "markdown",
   "metadata": {},
   "source": [
    "## Data Cleaning\n",
    "With the **explore_data() function** created above I explore the first data rows to make sure rows and columns are ordered correctly. The first column of the **IOS (apps_data_as)** is created when the file was imported. It will make it difficult for me to follow DataQuest instructions, so the **first column is deleted**"
   ]
  },
  {
   "cell_type": "code",
   "execution_count": 2,
   "metadata": {
    "scrolled": true
   },
   "outputs": [
    {
     "name": "stdout",
     "output_type": "stream",
     "text": [
      "['', 'id', 'track_name', 'size_bytes', 'currency', 'price', 'rating_count_tot', 'rating_count_ver', 'user_rating', 'user_rating_ver', 'ver', 'cont_rating', 'prime_genre', 'sup_devices.num', 'ipadSc_urls.num', 'lang.num', 'vpp_lic']\n",
      "\n",
      "\n",
      "['1', '281656475', 'PAC-MAN Premium', '100788224', 'USD', '3.99', '21292', '26', '4', '4.5', '6.3.5', '4+', 'Games', '38', '5', '10', '1']\n",
      "\n",
      "\n",
      "Number of rows: 7198\n",
      "Number of columns: 17\n",
      "\n",
      "\n",
      "['App', 'Category', 'Rating', 'Reviews', 'Size', 'Installs', 'Type', 'Price', 'Content Rating', 'Genres', 'Last Updated', 'Current Ver', 'Android Ver']\n",
      "\n",
      "\n",
      "['Photo Editor & Candy Camera & Grid & ScrapBook', 'ART_AND_DESIGN', '4.1', '159', '19M', '10,000+', 'Free', '0', 'Everyone', 'Art & Design', 'January 7, 2018', '1.0.0', '4.0.3 and up']\n",
      "\n",
      "\n",
      "Number of rows: 10842\n",
      "Number of columns: 13\n",
      "\n",
      "\n",
      "\n",
      "\n",
      "['id', 'track_name', 'size_bytes', 'currency', 'price', 'rating_count_tot', 'rating_count_ver', 'user_rating', 'user_rating_ver', 'ver', 'cont_rating', 'prime_genre', 'sup_devices.num', 'ipadSc_urls.num', 'lang.num', 'vpp_lic']\n",
      "\n",
      "\n",
      "['281656475', 'PAC-MAN Premium', '100788224', 'USD', '3.99', '21292', '26', '4', '4.5', '6.3.5', '4+', 'Games', '38', '5', '10', '1']\n",
      "\n",
      "\n",
      "Number of rows: 7198\n",
      "Number of columns: 16\n"
     ]
    }
   ],
   "source": [
    "explore_data(apps_data_as, 0, 2, True)\n",
    "print('\\n')\n",
    "explore_data(apps_data_gps, 0, 2, True)\n",
    "print('\\n')\n",
    "for row in apps_data_as:\n",
    "    row.pop(0)\n",
    "print('\\n')\n",
    "explore_data(apps_data_as, 0, 2, True)"
   ]
  },
  {
   "cell_type": "markdown",
   "metadata": {},
   "source": [
    "### Deleting incorrect row\n",
    "In the GPS (Google Play Store) dataset discussion section there is an open discussion about **row 10473** wich has incorrect information, so **it is deleted** with del() function"
   ]
  },
  {
   "cell_type": "code",
   "execution_count": 3,
   "metadata": {},
   "outputs": [
    {
     "name": "stdout",
     "output_type": "stream",
     "text": [
      "[['App', 'Category', 'Rating', 'Reviews', 'Size', 'Installs', 'Type', 'Price', 'Content Rating', 'Genres', 'Last Updated', 'Current Ver', 'Android Ver']]\n",
      "\n",
      "\n",
      "['Life Made WI-Fi Touchscreen Photo Frame', '1.9', '19', '3.0M', '1,000+', 'Free', '0', 'Everyone', '', 'February 11, 2018', '1.0.19', '4.0 and up']\n",
      "\n",
      "\n",
      "New row number =  10841\n"
     ]
    }
   ],
   "source": [
    "header_gps = apps_data_gps[0:1]\n",
    "print(header_gps)\n",
    "print('\\n')\n",
    "\n",
    "print(apps_data_gps[10473]) # Wrong data found from discssion. Row must be deleted\n",
    "wrong_data_gps = apps_data_gps[10473]\n",
    "\n",
    "print('\\n')\n",
    "del apps_data_gps[10473]\n",
    "print('New row number = ', len(apps_data_gps))"
   ]
  },
  {
   "cell_type": "markdown",
   "metadata": {},
   "source": [
    "### Deleting duplicated rows\n",
    "We check if there are any **duplicated apps in the GPS dataset**"
   ]
  },
  {
   "cell_type": "code",
   "execution_count": 4,
   "metadata": {
    "scrolled": true
   },
   "outputs": [
    {
     "name": "stdout",
     "output_type": "stream",
     "text": [
      "['Quick PDF Scanner + OCR FREE', 'Box', 'Google My Business']\n"
     ]
    },
    {
     "data": {
      "text/plain": [
       "1181"
      ]
     },
     "execution_count": 4,
     "metadata": {},
     "output_type": "execute_result"
    }
   ],
   "source": [
    "unique_apps = []\n",
    "duplicated_apps = []\n",
    "\n",
    "for row in apps_data_gps[1:]:\n",
    "    app_name_gps = row[0]\n",
    "    if app_name_gps in unique_apps:\n",
    "        duplicated_apps.append(app_name_gps)\n",
    "    else:\n",
    "        unique_apps.append(app_name_gps)\n",
    "\n",
    "print(duplicated_apps[:3])\n",
    "len(duplicated_apps)"
   ]
  },
  {
   "cell_type": "markdown",
   "metadata": {},
   "source": [
    "The duplicated app with the **most reviews is the one the one that will stay in dataset** since it has the most updated information. "
   ]
  },
  {
   "cell_type": "code",
   "execution_count": 5,
   "metadata": {},
   "outputs": [
    {
     "name": "stdout",
     "output_type": "stream",
     "text": [
      "9659\n",
      "66577446.0\n"
     ]
    }
   ],
   "source": [
    "reviews_max = {}\n",
    "\n",
    "for row in apps_data_gps[1:]:\n",
    "    name = row[0]\n",
    "    n_reviews = float(row[3])\n",
    "    if name in reviews_max and reviews_max[name] < n_reviews:\n",
    "        reviews_max[name] = n_reviews\n",
    "    elif name not in reviews_max:\n",
    "        reviews_max[name] = n_reviews\n",
    "        \n",
    "print(len(reviews_max))\n",
    "print(reviews_max[\"Instagram\"])"
   ]
  },
  {
   "cell_type": "markdown",
   "metadata": {},
   "source": [
    "We create a new list without duplications. The **new total row number is 9659**"
   ]
  },
  {
   "cell_type": "code",
   "execution_count": 6,
   "metadata": {
    "scrolled": true
   },
   "outputs": [
    {
     "name": "stdout",
     "output_type": "stream",
     "text": [
      "New lenght is  9659\n",
      "New lenght is  9659\n"
     ]
    }
   ],
   "source": [
    "android_clean = []\n",
    "already_added = []\n",
    "\n",
    "for row in apps_data_gps[1:]:\n",
    "    name = row[0]\n",
    "    n_reviews = float(row[3])\n",
    "    if (n_reviews == reviews_max[name]) and (name not in already_added):\n",
    "        android_clean.append(row)\n",
    "        already_added.append(name)\n",
    "        \n",
    "print('New lenght is ', len(android_clean))\n",
    "print('New lenght is ', len(already_added))"
   ]
  },
  {
   "cell_type": "markdown",
   "metadata": {},
   "source": [
    "### Deleting Non-English apps\n",
    "We create a **function that return a Boolean if app name is in english**. We allow up to three words outside the english dictionary per app (since some apps might have emojis, symbols or punctuation marks)."
   ]
  },
  {
   "cell_type": "code",
   "execution_count": 7,
   "metadata": {},
   "outputs": [
    {
     "name": "stdout",
     "output_type": "stream",
     "text": [
      "True\n",
      "True\n"
     ]
    },
    {
     "data": {
      "text/plain": [
       "False"
      ]
     },
     "execution_count": 7,
     "metadata": {},
     "output_type": "execute_result"
    }
   ],
   "source": [
    "weird_apps = ['Instagram',\n",
    "'爱奇艺PPS -《欢乐颂2》电视剧热播',\n",
    "'Docs To Go™ Free Office Suite',\n",
    "'Instachat 😜']\n",
    "\n",
    "def e_string(string):\n",
    "    w_letter_count = 0\n",
    "    for letter in string:\n",
    "        if ord(letter) > 127:    \n",
    "            w_letter_count += 1\n",
    "    if w_letter_count > 3: \n",
    "        return False\n",
    "    return True\n",
    "\n",
    "print(e_string('Docs To Go™ Free Office Suite')) \n",
    "print(e_string('Instachat 😜')) \n",
    "e_string('爱奇艺PPS -《欢乐颂2》电视剧热播')"
   ]
  },
  {
   "cell_type": "markdown",
   "metadata": {},
   "source": [
    "The function **e_string(string) is used to reclean both datasets**"
   ]
  },
  {
   "cell_type": "code",
   "execution_count": 8,
   "metadata": {
    "scrolled": true
   },
   "outputs": [
    {
     "name": "stdout",
     "output_type": "stream",
     "text": [
      "9614\n",
      "6184\n"
     ]
    }
   ],
   "source": [
    "recleaned_android = []\n",
    "recleaned_ios = []\n",
    "\n",
    "for row in android_clean:\n",
    "    app = row[0]\n",
    "    if e_string(app):\n",
    "        recleaned_android.append(row)\n",
    "        \n",
    "for row in apps_data_as:\n",
    "    app = row[1]\n",
    "    if e_string(app):\n",
    "        recleaned_ios.append(row)\n",
    "        \n",
    "\n",
    "print(len(recleaned_android))\n",
    "print(len(recleaned_ios))"
   ]
  },
  {
   "cell_type": "markdown",
   "metadata": {},
   "source": [
    "### Deleting Non-Free apps\n",
    "Data is cleaned again so **only Free** ones are analyzed"
   ]
  },
  {
   "cell_type": "code",
   "execution_count": 9,
   "metadata": {
    "scrolled": true
   },
   "outputs": [
    {
     "name": "stdout",
     "output_type": "stream",
     "text": [
      "8864\n",
      "3222\n"
     ]
    }
   ],
   "source": [
    "free_android = []\n",
    "free_ios = []\n",
    "\n",
    "for row in recleaned_android:\n",
    "    price = row[7]\n",
    "    if price == \"0\":\n",
    "        free_android.append(row)\n",
    "        \n",
    "for row in recleaned_ios[1:]:\n",
    "    price = row[4]\n",
    "    if price == '0':\n",
    "        free_ios.append(row)\n",
    "        \n",
    "        \n",
    "print(len(free_android))\n",
    "print(len(free_ios))"
   ]
  },
  {
   "cell_type": "markdown",
   "metadata": {},
   "source": [
    "## Apps Analysis\n",
    "### Number of apps by category\n",
    "A frecuency table is created to see **which category has the most apps** for each dataset. Ordered from biggest to lowest"
   ]
  },
  {
   "cell_type": "code",
   "execution_count": 10,
   "metadata": {},
   "outputs": [
    {
     "name": "stdout",
     "output_type": "stream",
     "text": [
      "Tools : 8.449909747292418\n",
      "Entertainment : 6.069494584837545\n",
      "Education : 5.347472924187725\n",
      "Business : 4.591606498194946\n",
      "Productivity : 3.892148014440433\n",
      "Lifestyle : 3.892148014440433\n",
      "Finance : 3.7003610108303246\n",
      "Medical : 3.531137184115524\n",
      "Sports : 3.463447653429603\n",
      "Personalization : 3.3167870036101084\n",
      "Communication : 3.2378158844765346\n",
      "Action : 3.1024368231046933\n",
      "Health & Fitness : 3.0798736462093865\n",
      "Photography : 2.944494584837545\n",
      "News & Magazines : 2.7978339350180503\n",
      "Social : 2.6624548736462095\n",
      "Travel & Local : 2.3240072202166067\n",
      "Shopping : 2.2450361010830324\n",
      "Books & Reference : 2.1435018050541514\n",
      "Simulation : 2.0419675090252705\n",
      "Dating : 1.861462093862816\n",
      "Arcade : 1.8501805054151623\n",
      "Video Players & Editors : 1.7712093862815883\n",
      "Casual : 1.7599277978339352\n",
      "Maps & Navigation : 1.3989169675090252\n",
      "Food & Drink : 1.2409747292418771\n",
      "Puzzle : 1.128158844765343\n",
      "Racing : 0.9927797833935018\n",
      "Role Playing : 0.9363718411552346\n",
      "Libraries & Demo : 0.9363718411552346\n",
      "Auto & Vehicles : 0.9250902527075812\n",
      "Strategy : 0.9138086642599278\n",
      "House & Home : 0.8235559566787004\n",
      "Weather : 0.8009927797833934\n",
      "Events : 0.7107400722021661\n",
      "Adventure : 0.6768953068592057\n",
      "Comics : 0.6092057761732852\n",
      "Beauty : 0.5979241877256317\n",
      "Art & Design : 0.5979241877256317\n",
      "Parenting : 0.4963898916967509\n",
      "Card : 0.45126353790613716\n",
      "Casino : 0.42870036101083037\n",
      "Trivia : 0.41741877256317694\n",
      "Educational;Education : 0.39485559566787\n",
      "Board : 0.3835740072202166\n",
      "Educational : 0.3722924187725632\n",
      "Education;Education : 0.33844765342960287\n",
      "Word : 0.2594765342960289\n",
      "Casual;Pretend Play : 0.236913357400722\n",
      "Music : 0.2030685920577617\n",
      "Racing;Action & Adventure : 0.16922382671480143\n",
      "Puzzle;Brain Games : 0.16922382671480143\n",
      "Entertainment;Music & Video : 0.16922382671480143\n",
      "Casual;Brain Games : 0.13537906137184114\n",
      "Casual;Action & Adventure : 0.13537906137184114\n",
      "Arcade;Action & Adventure : 0.12409747292418773\n",
      "Action;Action & Adventure : 0.10153429602888085\n",
      "Educational;Pretend Play : 0.09025270758122744\n",
      "Simulation;Action & Adventure : 0.078971119133574\n",
      "Parenting;Education : 0.078971119133574\n",
      "Entertainment;Brain Games : 0.078971119133574\n",
      "Board;Brain Games : 0.078971119133574\n",
      "Parenting;Music & Video : 0.06768953068592057\n",
      "Educational;Brain Games : 0.06768953068592057\n",
      "Casual;Creativity : 0.06768953068592057\n",
      "Art & Design;Creativity : 0.06768953068592057\n",
      "Education;Pretend Play : 0.056407942238267145\n",
      "Role Playing;Pretend Play : 0.04512635379061372\n",
      "Education;Creativity : 0.04512635379061372\n",
      "Role Playing;Action & Adventure : 0.033844765342960284\n",
      "Puzzle;Action & Adventure : 0.033844765342960284\n",
      "Entertainment;Creativity : 0.033844765342960284\n",
      "Entertainment;Action & Adventure : 0.033844765342960284\n",
      "Educational;Creativity : 0.033844765342960284\n",
      "Educational;Action & Adventure : 0.033844765342960284\n",
      "Education;Music & Video : 0.033844765342960284\n",
      "Education;Brain Games : 0.033844765342960284\n",
      "Education;Action & Adventure : 0.033844765342960284\n",
      "Adventure;Action & Adventure : 0.033844765342960284\n",
      "Video Players & Editors;Music & Video : 0.02256317689530686\n",
      "Sports;Action & Adventure : 0.02256317689530686\n",
      "Simulation;Pretend Play : 0.02256317689530686\n",
      "Puzzle;Creativity : 0.02256317689530686\n",
      "Music;Music & Video : 0.02256317689530686\n",
      "Entertainment;Pretend Play : 0.02256317689530686\n",
      "Casual;Education : 0.02256317689530686\n",
      "Board;Action & Adventure : 0.02256317689530686\n",
      "Video Players & Editors;Creativity : 0.01128158844765343\n",
      "Trivia;Education : 0.01128158844765343\n",
      "Travel & Local;Action & Adventure : 0.01128158844765343\n",
      "Tools;Education : 0.01128158844765343\n",
      "Strategy;Education : 0.01128158844765343\n",
      "Strategy;Creativity : 0.01128158844765343\n",
      "Strategy;Action & Adventure : 0.01128158844765343\n",
      "Simulation;Education : 0.01128158844765343\n",
      "Role Playing;Brain Games : 0.01128158844765343\n",
      "Racing;Pretend Play : 0.01128158844765343\n",
      "Puzzle;Education : 0.01128158844765343\n",
      "Parenting;Brain Games : 0.01128158844765343\n",
      "Music & Audio;Music & Video : 0.01128158844765343\n",
      "Lifestyle;Pretend Play : 0.01128158844765343\n",
      "Lifestyle;Education : 0.01128158844765343\n",
      "Health & Fitness;Education : 0.01128158844765343\n",
      "Health & Fitness;Action & Adventure : 0.01128158844765343\n",
      "Entertainment;Education : 0.01128158844765343\n",
      "Communication;Creativity : 0.01128158844765343\n",
      "Comics;Creativity : 0.01128158844765343\n",
      "Casual;Music & Video : 0.01128158844765343\n",
      "Card;Action & Adventure : 0.01128158844765343\n",
      "Books & Reference;Education : 0.01128158844765343\n",
      "Art & Design;Pretend Play : 0.01128158844765343\n",
      "Art & Design;Action & Adventure : 0.01128158844765343\n",
      "Arcade;Pretend Play : 0.01128158844765343\n",
      "Adventure;Education : 0.01128158844765343\n",
      "\n",
      "\n",
      "Games : 58.16263190564867\n",
      "Entertainment : 7.883302296710118\n",
      "Photo & Video : 4.9658597144630665\n",
      "Education : 3.662321539416512\n",
      "Social Networking : 3.2898820608317814\n",
      "Shopping : 2.60707635009311\n",
      "Utilities : 2.5139664804469275\n",
      "Sports : 2.1415270018621975\n",
      "Music : 2.0484171322160147\n",
      "Health & Fitness : 2.0173805090006205\n",
      "Productivity : 1.7380509000620732\n",
      "Lifestyle : 1.5828677839851024\n",
      "News : 1.3345747982619491\n",
      "Travel : 1.2414649286157666\n",
      "Finance : 1.1173184357541899\n",
      "Weather : 0.8690254500310366\n",
      "Food & Drink : 0.8069522036002483\n",
      "Reference : 0.5586592178770949\n",
      "Business : 0.5276225946617008\n",
      "Book : 0.4345127250155183\n",
      "Navigation : 0.186219739292365\n",
      "Medical : 0.186219739292365\n",
      "Catalogs : 0.12414649286157665\n"
     ]
    }
   ],
   "source": [
    "def freq_table(dataset, index):\n",
    "    freq_list = {}\n",
    "    total = 0\n",
    "    for row in dataset: \n",
    "        column = row[index]\n",
    "        total += 1\n",
    "        if column in freq_list:\n",
    "            freq_list[column] += 1\n",
    "        else:\n",
    "            freq_list[column] = 1\n",
    "    \n",
    "    freq_perc = {}\n",
    "    for key in freq_list:\n",
    "        perc = (freq_list[key] / total) * 100\n",
    "        freq_perc[key] = perc\n",
    "        \n",
    "    return freq_perc\n",
    "        \n",
    "def display_table(dataset, index):\n",
    "    table = freq_table(dataset, index)\n",
    "    table_display = []\n",
    "    for key in table:\n",
    "        key_val_as_tuple = (table[key], key)\n",
    "        table_display.append(key_val_as_tuple)\n",
    "\n",
    "    table_sorted = sorted(table_display, reverse = True)\n",
    "    for entry in table_sorted:\n",
    "        print(entry[1], ':', entry[0])\n",
    "        \n",
    "display_table(free_android, 9)\n",
    "print('\\n')\n",
    "display_table(free_ios, 11)\n",
    "        "
   ]
  },
  {
   "cell_type": "markdown",
   "metadata": {},
   "source": [
    "### Rating Count per category (Google Play Store)\n",
    "The **total rating count per category** is extracted to see which categories have the most active users (Google Play Store). The top three categories are Navigation, Reference and Social Networking"
   ]
  },
  {
   "cell_type": "code",
   "execution_count": 11,
   "metadata": {
    "scrolled": true
   },
   "outputs": [
    {
     "name": "stdout",
     "output_type": "stream",
     "text": [
      "GENRES LIST\n",
      "Productivity : 21028.410714285714\n",
      "Weather : 52279.892857142855\n",
      "Shopping : 26919.690476190477\n",
      "Reference : 74942.11111111111\n",
      "Finance : 31467.944444444445\n",
      "Music : 57326.530303030304\n",
      "Utilities : 18684.456790123455\n",
      "Travel : 28243.8\n",
      "Social Networking : 71548.34905660378\n",
      "Sports : 23008.898550724636\n",
      "Health & Fitness : 23298.015384615384\n",
      "Games : 22788.6696905016\n",
      "Food & Drink : 33333.92307692308\n",
      "News : 21248.023255813954\n",
      "Book : 39758.5\n",
      "Photo & Video : 28441.54375\n",
      "Entertainment : 14029.830708661417\n",
      "Business : 7491.117647058823\n",
      "Lifestyle : 16485.764705882353\n",
      "Education : 7003.983050847458\n",
      "Navigation : 86090.33333333333\n",
      "Medical : 612.0\n",
      "Catalogs : 4004.0\n",
      "\n",
      "\n",
      "TOP 3 GENRES\n",
      "['Reference', 'Social Networking', 'Navigation']\n",
      "[74942.11111111111, 71548.34905660378, 86090.33333333333]\n"
     ]
    }
   ],
   "source": [
    "unique_genre_ios = freq_table(free_ios, 11)\n",
    "\n",
    "print('GENRES LIST')\n",
    "for genre in unique_genre_ios:\n",
    "    total = 0\n",
    "    len_genre = 0\n",
    "    for app in free_ios:\n",
    "        genre_app = app[11]\n",
    "        if genre_app == genre:\n",
    "            user_rating_count = float(app[5])\n",
    "            total += user_rating_count\n",
    "            len_genre += 1\n",
    "    avg_rating_count = total / len_genre\n",
    "    print(genre, ':', avg_rating_count) \n",
    "print('\\n')\n",
    "    \n",
    "print('TOP 3 GENRES')\n",
    "\n",
    "top3ios = []\n",
    "top3iosvalues = []\n",
    "for genre in unique_genre_ios:\n",
    "    total = 0\n",
    "    len_genre = 0\n",
    "    for app in free_ios:\n",
    "        genre_app = app[11]\n",
    "        if genre_app == genre:\n",
    "            user_rating_count = float(app[5])\n",
    "            total += user_rating_count\n",
    "            len_genre += 1\n",
    "    avg_rating_count = total / len_genre \n",
    "    if avg_rating_count >= 71000:\n",
    "        top3ios.append(genre)\n",
    "        top3iosvalues.append(avg_rating_count)\n",
    "print(top3ios)\n",
    "print(top3iosvalues)"
   ]
  },
  {
   "cell_type": "markdown",
   "metadata": {},
   "source": [
    "### Top 3 Google Play Store Categories in Depth\n",
    "A function is created to return the **app rating count distribution** compared to the category for both data sets. We use it only for the GPS dataset, with the critical values (rating counts): 50000, 25000, 5000 and 1000.\n",
    "\n",
    "- We see that 'Navigation' Category rating count is highly affected by few apps. Most of the apps rating count have less than the category average.\n",
    "- Reference and Social Networking have a more distributed  rating count."
   ]
  },
  {
   "cell_type": "code",
   "execution_count": 23,
   "metadata": {},
   "outputs": [],
   "source": [
    "def disprating(data, app_category, total_rating, critical_value1 = 50000, critical_value2 = 25000, critical_value3 = 5000, critical_value4 = 1000, critical_value5 = 0, ios = True):\n",
    "    critical_value1_list = []\n",
    "    critical_value2_list = []\n",
    "    critical_value3_list = []\n",
    "    critical_value4_list = []\n",
    "    critical_value5_list = []\n",
    "    total_sn = 0\n",
    "\n",
    "    if ios:\n",
    "        for app in data:\n",
    "            name = app[1]\n",
    "            genre_app = app[11]\n",
    "            user_rating_count = float(app[5]) \n",
    "            if genre_app == app_category:\n",
    "                total_sn += 1\n",
    "                if user_rating_count >= critical_value1:\n",
    "                    critical_value1_list.append(name)\n",
    "                elif critical_value1 > user_rating_count >= critical_value2:\n",
    "                    critical_value2_list.append(name)\n",
    "                elif critical_value2 > user_rating_count >= critical_value3:\n",
    "                    critical_value3_list.append(name)\n",
    "                elif critical_value3 > user_rating_count >= critical_value4:\n",
    "                    critical_value4_list.append(name)\n",
    "                elif critical_value4 > user_rating_count >= critical_value5:\n",
    "                    critical_value5_list.append(name)\n",
    "                    \n",
    "        print(app_category, ': ', total_rating)\n",
    "        print('Above', critical_value1, 'n=', len(critical_value1_list), ' Pctg=',(len(critical_value1_list)) / total_sn * 100)\n",
    "        print(critical_value2, 'to', critical_value1, 'n=', len(critical_value2_list), ' Pctg=',(len(critical_value2_list)) / total_sn * 100)\n",
    "        print(critical_value3, 'to', critical_value2, 'n=', len(critical_value3_list), ' Pctg=',(len(critical_value3_list)) / total_sn * 100)\n",
    "        print(critical_value4, 'to', critical_value3, 'n=', len(critical_value4_list), ' Pctg=',(len(critical_value4_list)) / total_sn * 100)\n",
    "        print(critical_value5, 'to', critical_value4, 'n=', len(critical_value5_list), ' Pctg=',(len(critical_value5_list)) / total_sn * 100)\n",
    "    else:\n",
    "        for app in data:\n",
    "            name = app[0]\n",
    "            category_app = app[1]\n",
    "            app[5] = app[5].replace('+','')\n",
    "            app[5] = app[5].replace(',','')\n",
    "            installs_count = float(app[5])\n",
    "            if category_app == app_category:\n",
    "                total_sn += 1\n",
    "                if installs_count >= critical_value1:\n",
    "                    critical_value1_list.append(name)\n",
    "                elif critical_value1 > installs_count >= critical_value2:\n",
    "                    critical_value2_list.append(name)\n",
    "                elif critical_value2 > installs_count >= critical_value3:\n",
    "                    critical_value3_list.append(name)\n",
    "                elif critical_value3 > installs_count >= critical_value4:\n",
    "                    critical_value4_list.append(name)\n",
    "                elif critical_value4 > installs_count >= critical_value5:\n",
    "                    critical_value5_list.append(name)\n",
    "                    \n",
    "        print(app_category, ': ', total_rating)\n",
    "        print('Above', critical_value1, 'n=', len(critical_value1_list), ' Pctg=',(len(critical_value1_list)) / total_sn * 100)\n",
    "        print(critical_value2, 'to', critical_value1, 'n=', len(critical_value2_list), ' Pctg=',(len(critical_value2_list)) / total_sn * 100)\n",
    "        print(critical_value3, 'to', critical_value2, 'n=', len(critical_value3_list), ' Pctg=',(len(critical_value3_list)) / total_sn * 100)\n",
    "        print(critical_value4, 'to', critical_value3, 'n=', len(critical_value4_list), ' Pctg=',(len(critical_value4_list)) / total_sn * 100)\n",
    "        print(critical_value5, 'to', critical_value4, 'n=', len(critical_value5_list), ' Pctg=',(len(critical_value5_list)) / total_sn * 100)\n"
   ]
  },
  {
   "cell_type": "code",
   "execution_count": 24,
   "metadata": {
    "scrolled": true
   },
   "outputs": [
    {
     "name": "stdout",
     "output_type": "stream",
     "text": [
      "Navigation :  86090.33333333333\n",
      "Above 50000 n= 2  Pctg= 33.33333333333333\n",
      "25000 to 50000 n= 0  Pctg= 0.0\n",
      "5000 to 25000 n= 1  Pctg= 16.666666666666664\n",
      "1000 to 5000 n= 1  Pctg= 16.666666666666664\n",
      "0 to 1000 n= 2  Pctg= 33.33333333333333\n",
      "\n",
      "\n",
      "Social Networking :  71548.34905660378\n",
      "Above 50000 n= 19  Pctg= 17.92452830188679\n",
      "25000 to 50000 n= 10  Pctg= 9.433962264150944\n",
      "5000 to 25000 n= 23  Pctg= 21.69811320754717\n",
      "1000 to 5000 n= 18  Pctg= 16.9811320754717\n",
      "0 to 1000 n= 36  Pctg= 33.9622641509434\n",
      "\n",
      "\n",
      "Reference :  74942.11111111111\n",
      "Above 50000 n= 3  Pctg= 16.666666666666664\n",
      "25000 to 50000 n= 1  Pctg= 5.555555555555555\n",
      "5000 to 25000 n= 5  Pctg= 27.77777777777778\n",
      "1000 to 5000 n= 2  Pctg= 11.11111111111111\n",
      "0 to 1000 n= 7  Pctg= 38.88888888888889\n"
     ]
    }
   ],
   "source": [
    "disprating(free_ios, top3ios[2], top3iosvalues[2])\n",
    "print('\\n')\n",
    "disprating(free_ios, top3ios[1], top3iosvalues[1])\n",
    "print('\\n')\n",
    "disprating(free_ios, top3ios[0], top3iosvalues[0])"
   ]
  },
  {
   "cell_type": "markdown",
   "metadata": {},
   "source": [
    "### Installs per category (IOS)\n",
    "The **total installs per category** are extracted in order to see which IOS categories have the most of these"
   ]
  },
  {
   "cell_type": "code",
   "execution_count": 14,
   "metadata": {
    "scrolled": true
   },
   "outputs": [
    {
     "name": "stdout",
     "output_type": "stream",
     "text": [
      "ART_AND_DESIGN :  1986335.0877192982\n",
      "AUTO_AND_VEHICLES :  647317.8170731707\n",
      "BEAUTY :  513151.88679245283\n",
      "BOOKS_AND_REFERENCE :  8767811.894736841\n",
      "BUSINESS :  1712290.1474201474\n",
      "COMICS :  817657.2727272727\n",
      "COMMUNICATION :  38456119.167247385\n",
      "DATING :  854028.8303030303\n",
      "EDUCATION :  1833495.145631068\n",
      "ENTERTAINMENT :  11640705.88235294\n",
      "EVENTS :  253542.22222222222\n",
      "FINANCE :  1387692.475609756\n",
      "FOOD_AND_DRINK :  1924897.7363636363\n",
      "HEALTH_AND_FITNESS :  4188821.9853479853\n",
      "HOUSE_AND_HOME :  1331540.5616438356\n",
      "LIBRARIES_AND_DEMO :  638503.734939759\n",
      "LIFESTYLE :  1437816.2687861272\n",
      "GAME :  15588015.603248259\n",
      "FAMILY :  3695641.8198090694\n",
      "MEDICAL :  120550.61980830671\n",
      "SOCIAL :  23253652.127118643\n",
      "SHOPPING :  7036877.311557789\n",
      "PHOTOGRAPHY :  17840110.40229885\n",
      "SPORTS :  3638640.1428571427\n",
      "TRAVEL_AND_LOCAL :  13984077.710144928\n",
      "TOOLS :  10801391.298666667\n",
      "PERSONALIZATION :  5201482.6122448975\n",
      "PRODUCTIVITY :  16787331.344927534\n",
      "PARENTING :  542603.6206896552\n",
      "WEATHER :  5074486.197183099\n",
      "VIDEO_PLAYERS :  24727872.452830188\n",
      "NEWS_AND_MAGAZINES :  9549178.467741935\n",
      "MAPS_AND_NAVIGATION :  4056941.7741935486\n",
      "\n",
      "\n",
      "TOP 3 CATEGORIES\n",
      "COMMUNICATION :  38456119.167247385\n",
      "SOCIAL :  23253652.127118643\n",
      "VIDEO_PLAYERS :  24727872.452830188\n"
     ]
    }
   ],
   "source": [
    "unique_genre_gps = freq_table(free_android, 1)\n",
    "\n",
    "for category in unique_genre_gps:\n",
    "    total = 0\n",
    "    len_category = 0\n",
    "    for app in free_android:\n",
    "        category_app = app[1]\n",
    "        if category_app == category:\n",
    "            app[5] = app[5].replace('+','')\n",
    "            app[5] = app[5].replace(',','')\n",
    "            installs_count = float(app[5])\n",
    "            total += installs_count\n",
    "            len_category += 1\n",
    "    avg_intalls = total / len_category\n",
    "    print(category, ': ', avg_intalls)\n",
    "    \n",
    "print('\\n')    \n",
    "print('TOP 3 CATEGORIES')\n",
    "\n",
    "top3gps = []\n",
    "top3gpsvalues = []\n",
    "\n",
    "for category in unique_genre_gps:\n",
    "    total = 0\n",
    "    len_category = 0\n",
    "    for app in free_android:\n",
    "        category_app = app[1]\n",
    "        if category_app == category:\n",
    "            app[5] = app[5].replace('+','')\n",
    "            installs_new = app[5].replace(',','')\n",
    "            installs_count = float(installs_new)\n",
    "            total += installs_count\n",
    "            len_category += 1\n",
    "    avg_intalls = total / len_category\n",
    "    if avg_intalls >= 20727872.4:\n",
    "        top3gps.append(category)\n",
    "        top3gpsvalues.append(avg_intalls)\n",
    "        print(category, ': ', avg_intalls)"
   ]
  },
  {
   "cell_type": "markdown",
   "metadata": {},
   "source": [
    "### Top 3 IOS Categories in Depth\n",
    "The **function created above is used again** to see more in depth at the IOS category Installs distribution\n",
    "- We see the pattern of social and communications repeated for the IOS list. These categories have the most downloads again"
   ]
  },
  {
   "cell_type": "code",
   "execution_count": 15,
   "metadata": {
    "scrolled": true
   },
   "outputs": [
    {
     "name": "stdout",
     "output_type": "stream",
     "text": [
      "VIDEO_PLAYERS :  24727872.452830188\n",
      "Above 50000 ratings: n= 107  Pctg= 67.29559748427673\n",
      "25000 to 50000 ratings: n= 0  Pctg= 0.0\n",
      "5000 to 25000 ratings: n= 29  Pctg= 18.238993710691823\n",
      "1000 to 5000 ratings: n= 8  Pctg= 5.031446540880504\n",
      "0 to 1000 ratings: n= 15  Pctg= 9.433962264150944\n",
      "\n",
      "\n",
      "SOCIAL :  23253652.127118643\n",
      "Above 50000 ratings: n= 145  Pctg= 61.440677966101696\n",
      "25000 to 50000 ratings: n= 0  Pctg= 0.0\n",
      "5000 to 25000 ratings: n= 29  Pctg= 12.288135593220339\n",
      "1000 to 5000 ratings: n= 22  Pctg= 9.322033898305085\n",
      "0 to 1000 ratings: n= 40  Pctg= 16.94915254237288\n",
      "\n",
      "\n",
      "COMMUNICATION :  38456119.167247385\n",
      "Above 50000 ratings: n= 174  Pctg= 60.62717770034843\n",
      "25000 to 50000 ratings: n= 0  Pctg= 0.0\n",
      "5000 to 25000 ratings: n= 36  Pctg= 12.543554006968641\n",
      "1000 to 5000 ratings: n= 19  Pctg= 6.620209059233449\n",
      "0 to 1000 ratings: n= 58  Pctg= 20.209059233449477\n"
     ]
    }
   ],
   "source": [
    "disprating(free_android, top3gps[2], top3gpsvalues[2], ios = False)\n",
    "print('\\n')\n",
    "disprating(free_android, top3gps[1], top3gpsvalues[1], ios = False)\n",
    "print('\\n')\n",
    "disprating(free_android, top3gps[0], top3gpsvalues[0], ios = False)"
   ]
  },
  {
   "cell_type": "markdown",
   "metadata": {},
   "source": [
    "## Conclusion\n",
    "I recommend creating a **social media app**. \n",
    "- Both datasets have Social Media categories on their top 3 categories for rating count and installs\n",
    "- The rating counts and installs are not influenced by extreme highs like the Navigation category"
   ]
  }
 ],
 "metadata": {
  "kernelspec": {
   "display_name": "Python 3",
   "language": "python",
   "name": "python3"
  },
  "language_info": {
   "codemirror_mode": {
    "name": "ipython",
    "version": 3
   },
   "file_extension": ".py",
   "mimetype": "text/x-python",
   "name": "python",
   "nbconvert_exporter": "python",
   "pygments_lexer": "ipython3",
   "version": "3.7.3"
  }
 },
 "nbformat": 4,
 "nbformat_minor": 2
}
